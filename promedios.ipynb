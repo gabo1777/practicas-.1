{
  "nbformat": 4,
  "nbformat_minor": 0,
  "metadata": {
    "colab": {
      "name": "Untitled24.ipynb",
      "provenance": [],
      "authorship_tag": "ABX9TyNg6y+rU3x8cXlxHEUBLOmN",
      "include_colab_link": true
    },
    "kernelspec": {
      "name": "python3",
      "display_name": "Python 3"
    },
    "language_info": {
      "name": "python"
    }
  },
  "cells": [
    {
      "cell_type": "markdown",
      "metadata": {
        "id": "view-in-github",
        "colab_type": "text"
      },
      "source": [
        "<a href=\"https://colab.research.google.com/github/gabo1777/practicas-.1/blob/main/promedios.ipynb\" target=\"_parent\"><img src=\"https://colab.research.google.com/assets/colab-badge.svg\" alt=\"Open In Colab\"/></a>"
      ]
    },
    {
      "cell_type": "code",
      "execution_count": 3,
      "metadata": {
        "colab": {
          "base_uri": "https://localhost:8080/"
        },
        "id": "CbPA2n6td9FK",
        "outputId": "fac2c9b2-f094-4916-9af9-52dd37339a39"
      },
      "outputs": [
        {
          "output_type": "stream",
          "name": "stdout",
          "text": [
            "Ingresa el número de filas: 4\n",
            "Ingresa el número de columnas: 4\n",
            "ingresa numero de control: 1\n",
            "ingresa nombre del alumno: g\n",
            "ingresa Genero: h\n",
            "ingresa Calificacion: 7\n",
            "ingresa numero de control: 2\n",
            "ingresa nombre del alumno: e\n",
            "ingresa Genero: m\n",
            "ingresa Calificacion: 8\n",
            "ingresa numero de control: 3\n",
            "ingresa nombre del alumno: r\n",
            "ingresa Genero: h\n",
            "ingresa Calificacion: 8\n",
            "ingresa numero de control: 4\n",
            "ingresa nombre del alumno: a\n",
            "ingresa Genero: m\n",
            "ingresa Calificacion: 10\n",
            "Promedio de Hombres 22.0\n",
            "Promedio de Mujeres 27.5\n",
            "[['1', 'g', 'h', '7'], ['2', 'e', 'm', '8'], ['3', 'r', 'h', '8'], ['4', 'a', 'm', '10']]\n"
          ]
        }
      ],
      "source": [
        "\n",
        "Totalh=0\n",
        "Totalm=0\n",
        "Cala=0\n",
        "Calg=0\n",
        "Promedioh=0\n",
        "Promediom=0\n",
        "ari=int(input(\"Ingresa el número de filas: \"))\n",
        "ga=int(input(\"Ingresa el número de columnas: \"))\n",
        "A=[]\n",
        "valor=\"\"\n",
        "for i in range(0,ga):\n",
        "  A.append([0]*ari)\n",
        "\n",
        "for i in range(0,ga):\n",
        "  for j in range(0,ari):\n",
        "    if (j==0):\n",
        "      valor=\"numero de control\"\n",
        "    elif(j==1):\n",
        "      valor=\"nombre del alumn@\"\n",
        "    elif(j==2):\n",
        "      valor=\"Genero\"\n",
        "    elif(j==3):\n",
        "      valor=\"Calificacion\"\n",
        "    A[i][j]=input(\"ingresa \"+valor+ \": \" )\n",
        "\n",
        "for i in range(0,ga):\n",
        " \n",
        "\n",
        "  if(A[i][2]=='h'):\n",
        "    Totalh=Totalh+1\n",
        "    Calh=Calh+int(A[i][3])\n",
        "\n",
        "  if(A[i][2]=='m'):\n",
        "    Totalm=Totalm+1\n",
        "    Calm=Calm+int(A[i][3])\n",
        "\n",
        "\n",
        "Promedioh=Calh/Totalh\n",
        "Promediom=Calm/Totalm\n",
        "print(\"Promedio de Hombres\",Promedioh)\n",
        "print(\"Promedio de Mujeres\",Promediom)\n",
        "print(A)"
      ]
    }
  ]
}