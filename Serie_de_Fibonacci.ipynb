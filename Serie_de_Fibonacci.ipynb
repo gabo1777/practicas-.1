{
  "nbformat": 4,
  "nbformat_minor": 0,
  "metadata": {
    "colab": {
      "name": "Serie de Fibonacci.ipynb",
      "provenance": [],
      "authorship_tag": "ABX9TyOj3dsU6ObjiXCYjNOPlgSg",
      "include_colab_link": true
    },
    "kernelspec": {
      "name": "python3",
      "display_name": "Python 3"
    },
    "language_info": {
      "name": "python"
    }
  },
  "cells": [
    {
      "cell_type": "markdown",
      "metadata": {
        "id": "view-in-github",
        "colab_type": "text"
      },
      "source": [
        "<a href=\"https://colab.research.google.com/github/gabo1777/practicas-.1/blob/main/Serie_de_Fibonacci.ipynb\" target=\"_parent\"><img src=\"https://colab.research.google.com/assets/colab-badge.svg\" alt=\"Open In Colab\"/></a>"
      ]
    },
    {
      "cell_type": "code",
      "execution_count": null,
      "metadata": {
        "id": "VeVdOfbM77bA"
      },
      "outputs": [],
      "source": [
        "f_1=0\n",
        "f_2=1\n",
        "f_n=0\n",
        "\n",
        "n=int(input('Ingrese la cantidad de numeros que quieres que muestre: '))\n",
        "\n",
        "if(n==1):\n",
        "  print(f_1)\n",
        "elif(n==2):\n",
        "  print(f_1,f_2)\n",
        "elif(n>2):\n",
        "  print(f_1)\n",
        "  print(f_2)\n",
        "  for i in range(n-2):\n",
        "    f_n=f_1+f_2\n",
        "    f_1=f_2\n",
        "    f_2=f_n\n",
        "  \n",
        "    print(f_n)"
      ]
    }
  ]
}