{
  "nbformat": 4,
  "nbformat_minor": 0,
  "metadata": {
    "colab": {
      "name": "calculadora basica.ipynb",
      "provenance": [],
      "authorship_tag": "ABX9TyOvjgPJRPM3VrUvpsgnECOr",
      "include_colab_link": true
    },
    "kernelspec": {
      "name": "python3",
      "display_name": "Python 3"
    },
    "language_info": {
      "name": "python"
    }
  },
  "cells": [
    {
      "cell_type": "markdown",
      "metadata": {
        "id": "view-in-github",
        "colab_type": "text"
      },
      "source": [
        "<a href=\"https://colab.research.google.com/github/gabo1777/practicas-.1/blob/main/calculadora_basica.ipynb\" target=\"_parent\"><img src=\"https://colab.research.google.com/assets/colab-badge.svg\" alt=\"Open In Colab\"/></a>"
      ]
    },
    {
      "cell_type": "code",
      "execution_count": null,
      "metadata": {
        "id": "wKlg1rfSkE75"
      },
      "outputs": [],
      "source": [
        "num1=int(input(\"inserta el primer numero: \"))\n",
        "num2=int(input(\"inserta el segundo numero: \"))\n",
        "\n",
        "operacion=int(input(\"Operacion a relizar\"))\n",
        "#1. Suma\n",
        "#2. Resta\n",
        "#3. MUltiplicacion \n",
        "#4. Division\n",
        "Total=0\n",
        "if(operacion==1):\n",
        "  Total=num1+num2\n",
        "elif(operacion==2):\n",
        "  Total=num1-num2\n",
        "elif(operacion==3):\n",
        "   Total=num1*num2\n",
        "elif(operacion==4):\n",
        "   Total=num1/num2\n",
        "print(Total)     "
      ]
    }
  ]
}