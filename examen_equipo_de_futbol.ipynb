{
  "nbformat": 4,
  "nbformat_minor": 0,
  "metadata": {
    "colab": {
      "name": "examen_equipo_de_futbol.ipynb",
      "provenance": [],
      "collapsed_sections": [],
      "include_colab_link": true
    },
    "kernelspec": {
      "name": "python3",
      "display_name": "Python 3"
    },
    "language_info": {
      "name": "python"
    }
  },
  "cells": [
    {
      "cell_type": "markdown",
      "metadata": {
        "id": "view-in-github",
        "colab_type": "text"
      },
      "source": [
        "<a href=\"https://colab.research.google.com/github/gabo1777/practicas-.1/blob/main/examen_equipo_de_futbol.ipynb\" target=\"_parent\"><img src=\"https://colab.research.google.com/assets/colab-badge.svg\" alt=\"Open In Colab\"/></a>"
      ]
    },
    {
      "cell_type": "code",
      "execution_count": null,
      "metadata": {
        "id": "hFX6JWfQHfc6"
      },
      "outputs": [],
      "source": [
        "#Se establece el tamaño del arreglo\n",
        "ari=int(input(\"Ingresa el número de filas: \")) #Filas\n",
        "ga=int(input(\"Ingresa el número de columnas: \"))#Columnas\n",
        "#Se crea el arreglo\n",
        "A=[]\n",
        "valor=\"\"\n",
        "#Se inicializa el arreglo, es un proceso necesario para los arreglos bidimensionales\n",
        "for i in range(0,ga):\n",
        "  A.append([0]*ari)\n",
        "\n",
        "#Inicia el proceso de llenado del arreglo bidimensional\n",
        "for i in range(0,ga):\n",
        "  for j in range(0,ari):\n",
        "    if (j==0):\n",
        "      valor=\"equio de futbol\"\n",
        "    elif(j==1):\n",
        "      valor=\"pais\"\n",
        " \n",
        "    A[i][j]=input(\"ingresa \"+str(i+1)+valor+ \": \" )\n",
        "print(A)"
      ]
    }
  ]
}