{
  "nbformat": 4,
  "nbformat_minor": 0,
  "metadata": {
    "colab": {
      "name": "Piedra, papel, tijera, lagarto, spock.ipynb",
      "provenance": [],
      "authorship_tag": "ABX9TyNkjToeMXSs1ZJfsIRXzx1x",
      "include_colab_link": true
    },
    "kernelspec": {
      "name": "python3",
      "display_name": "Python 3"
    },
    "language_info": {
      "name": "python"
    }
  },
  "cells": [
    {
      "cell_type": "markdown",
      "metadata": {
        "id": "view-in-github",
        "colab_type": "text"
      },
      "source": [
        "<a href=\"https://colab.research.google.com/github/gabo1777/practicas-.1/blob/main/Piedra%2C_papel%2C_tijera%2C_lagarto%2C_spock.ipynb\" target=\"_parent\"><img src=\"https://colab.research.google.com/assets/colab-badge.svg\" alt=\"Open In Colab\"/></a>"
      ]
    },
    {
      "cell_type": "code",
      "execution_count": null,
      "metadata": {
        "id": "685iBD6qnux9"
      },
      "outputs": [],
      "source": [
        "juga1=int(input(\"jugador 1 ingresa su opcion \"))\n",
        "juga2=int(input(\"jugador 2 ingresa su opcion \"))\n",
        "#1.piedra\n",
        "#2.papel\n",
        "#3.tijeras\n",
        "#4.largato\n",
        "#5.spock\n",
        "\n",
        "if((juga1==1)and(juga2==2)):\n",
        "  print(\"Gano juga2\")\n",
        "elif ((juga1==1)and(juga2==3)):\n",
        "  print(\"Gano juga1\")\n",
        "elif((juga1==1)and(juga2==1)):\n",
        "    print(\"Empate\")\n",
        "elif((juga1==2)and(juga2==3)):\n",
        "      print(\"Gano juga2\")\n",
        "elif((juga1==2)and(juga2==1)):\n",
        "        print(\"Gano juga1\")\n",
        "elif((juga1==2)and(juga2==2)):\n",
        "          print(\"Empate\")\n",
        "elif((juga1==3)and(juga2==1)):\n",
        "  print(\"Gano juga2\")\n",
        "elif((juga1==3)and(juga2==2)):\n",
        "    print(\"Gano juga1\")\n",
        "elif((juga1==3)and(juga2==3)):\n",
        "  print(\"Empate\")\n",
        "elif((juga1==1)and(juga2==4)):\n",
        "  print(\"Gano juga1\")\n",
        "elif((juga1==4)and(juga2==1)):\n",
        "  print(\"Gano juga2\")\n",
        "elif((juga1==4)and(juga2==2)):\n",
        "  print(\"Gano juga2\")\n",
        "elif((juga1==4)and(juga2==3)):\n",
        "  print(\"Gano juga2\")\n",
        "elif((juga1==4)and(juga2==4)):\n",
        "  print(\"Empate\")\n",
        "elif((juga1==4)and(juga2==5)):\n",
        "  print(\"Gano juga1\")\n",
        "elif((juga1==5)and(juga2==1)):\n",
        "  print(\"Gano juga1\")\n",
        "elif((juga1==5)and(juga2==2)):\n",
        "  print(\"Gano juga2\")\n",
        "elif((juga1==5)and(juga2==3)):\n",
        "  print(\"Gano juga1\")\n",
        "elif((juga1==5)and(juga2==4)):\n",
        "  print(\"Gano juga2\")\n",
        "elif((juga1==5)and(juga2==5)):\n",
        "  print(\"Empate\")                  "
      ]
    }
  ]
}